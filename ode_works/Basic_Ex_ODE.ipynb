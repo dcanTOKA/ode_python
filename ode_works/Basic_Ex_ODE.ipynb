{
 "cells": [
  {
   "cell_type": "code",
   "execution_count": 4,
   "id": "3587734c",
   "metadata": {},
   "outputs": [],
   "source": [
    "#https://www.youtube.com/watch?v=6p8LhX2FU4E&t=1282s"
   ]
  },
  {
   "cell_type": "code",
   "execution_count": null,
   "id": "9b6c1be8",
   "metadata": {},
   "outputs": [],
   "source": [
    "import numpy as np\n",
    "from scipy.integrate import odeint\n",
    "import matplotlib.pyplot as plt"
   ]
  },
  {
   "cell_type": "code",
   "execution_count": 1,
   "id": "bd91920f",
   "metadata": {},
   "outputs": [],
   "source": [
    "def model1(z, t):\n",
    "    x1 = z[0]\n",
    "    x2 = z[1]\n",
    "    \n",
    "    dx1 = -0.1*x1 + 0.075*x2\n",
    "    dx2 = 0.1*x1 - 0.2*x2\n",
    "            \n",
    "    return [dx1, dx2]"
   ]
  },
  {
   "cell_type": "code",
   "execution_count": 21,
   "id": "d3eae900",
   "metadata": {},
   "outputs": [],
   "source": [
    "def model2(z, t):\n",
    "    x1 = z[0]\n",
    "    x2 = z[1]\n",
    "    \n",
    "    dx1 = x2 - 2 * (x1 * x2)\n",
    "    dx2 = -x1 + x1**2 + x2**2\n",
    "            \n",
    "    return [dx1, dx2]"
   ]
  },
  {
   "cell_type": "code",
   "execution_count": 2,
   "id": "fd0d0e5c",
   "metadata": {},
   "outputs": [],
   "source": [
    "# initial conditions\n",
    "z0 = [13, -10]"
   ]
  },
  {
   "cell_type": "code",
   "execution_count": 23,
   "id": "ac210c7a",
   "metadata": {},
   "outputs": [],
   "source": [
    "# time points\n",
    "t1 = np.linspace(0,2)\n",
    "t2 = np.linspace(0,2) + 2.2"
   ]
  },
  {
   "cell_type": "code",
   "execution_count": 8,
   "id": "b7c6f3db",
   "metadata": {},
   "outputs": [],
   "source": [
    "# time points\n",
    "t3 = np.linspace(0,5)"
   ]
  },
  {
   "cell_type": "code",
   "execution_count": 9,
   "id": "3511099e",
   "metadata": {},
   "outputs": [
    {
     "data": {
      "text/plain": [
       "array([0.        , 0.10204082, 0.20408163, 0.30612245, 0.40816327,\n",
       "       0.51020408, 0.6122449 , 0.71428571, 0.81632653, 0.91836735,\n",
       "       1.02040816, 1.12244898, 1.2244898 , 1.32653061, 1.42857143,\n",
       "       1.53061224, 1.63265306, 1.73469388, 1.83673469, 1.93877551,\n",
       "       2.04081633, 2.14285714, 2.24489796, 2.34693878, 2.44897959,\n",
       "       2.55102041, 2.65306122, 2.75510204, 2.85714286, 2.95918367,\n",
       "       3.06122449, 3.16326531, 3.26530612, 3.36734694, 3.46938776,\n",
       "       3.57142857, 3.67346939, 3.7755102 , 3.87755102, 3.97959184,\n",
       "       4.08163265, 4.18367347, 4.28571429, 4.3877551 , 4.48979592,\n",
       "       4.59183673, 4.69387755, 4.79591837, 4.89795918, 5.        ])"
      ]
     },
     "execution_count": 9,
     "metadata": {},
     "output_type": "execute_result"
    }
   ],
   "source": [
    "t3"
   ]
  },
  {
   "cell_type": "code",
   "execution_count": 10,
   "id": "1838d484",
   "metadata": {},
   "outputs": [],
   "source": [
    "def plot_result(x, y, t):\n",
    "    plt.plot(t, x, 'r--')\n",
    "    plt.plot(t, y, 'b--')\n",
    "    plt.xlabel('time')\n",
    "    plt.legend(['x1(t)', 'x2(t)'])\n",
    "    plt.show"
   ]
  },
  {
   "cell_type": "code",
   "execution_count": 11,
   "id": "f79cea50",
   "metadata": {},
   "outputs": [],
   "source": [
    "# solve ODE z1\n",
    "z1 = odeint(model1, z0, t3)\n",
    "\n",
    "x1_z1 = z1[:, 0]\n",
    "x2_z1 = z1[:, 1]"
   ]
  },
  {
   "cell_type": "code",
   "execution_count": 12,
   "id": "f99cf919",
   "metadata": {},
   "outputs": [
    {
     "data": {
      "text/plain": [
       "array([13.        , 12.79315281, 12.59090183, 12.39313449, 12.19974096,\n",
       "       12.01061418, 11.82564974, 11.64474586, 11.4678033 , 11.29472534,\n",
       "       11.12541768, 10.95978833, 10.79774759, 10.63920806, 10.48408451,\n",
       "       10.33229383, 10.183755  , 10.03838902,  9.89611886,  9.75686944,\n",
       "        9.62056753,  9.48714174,  9.35652246,  9.22864181,  9.10343365,\n",
       "        8.98083343,  8.86077825,  8.74320674,  8.62805911,  8.51527705,\n",
       "        8.40480369,  8.29658362,  8.19056275,  8.08668838,  7.9849091 ,\n",
       "        7.88517478,  7.78743657,  7.69164682,  7.59775906,  7.50572798,\n",
       "        7.4155094 ,  7.32706025,  7.24033852,  7.15530323,  7.07191446,\n",
       "        6.99013324,  6.9099216 ,  6.83124249,  6.7540598 ,  6.67833831])"
      ]
     },
     "execution_count": 12,
     "metadata": {},
     "output_type": "execute_result"
    }
   ],
   "source": [
    "x1_z1"
   ]
  },
  {
   "cell_type": "code",
   "execution_count": 13,
   "id": "f42c272e",
   "metadata": {},
   "outputs": [
    {
     "data": {
      "image/png": "[encoded data removed]",
      "text/plain": [
       "<Figure size 432x288 with 1 Axes>"
      ]
     },
     "metadata": {
      "needs_background": "light"
     },
     "output_type": "display_data"
    }
   ],
   "source": [
    "plot_result(x1_z1, x2_z1, t3)"
   ]
  },
  {
   "cell_type": "code",
   "execution_count": 35,
   "id": "ace4f6e3",
   "metadata": {},
   "outputs": [],
   "source": [
    "# solve ODE z2\n",
    "z2 = odeint(model2, [x1_z1[-1], x2_z1[-1]], t2)\n",
    "\n",
    "x1_z2 = z2[:, 0]\n",
    "x2_z2 = z2[:, 1]"
   ]
  },
  {
   "cell_type": "code",
   "execution_count": null,
   "id": "552f02fe",
   "metadata": {},
   "outputs": [],
   "source": []
  },
  {
   "cell_type": "code",
   "execution_count": 36,
   "id": "4bc721d0",
   "metadata": {},
   "outputs": [
    {
     "data": {
      "image/png": "[encoded data removed]",
      "text/plain": [
       "<Figure size 432x288 with 1 Axes>"
      ]
     },
     "metadata": {
      "needs_background": "light"
     },
     "output_type": "display_data"
    }
   ],
   "source": [
    "plot_result(x1_z2, x2_z2, t2)"
   ]
  },
  {
   "cell_type": "code",
   "execution_count": null,
   "id": "adcafed2",
   "metadata": {},
   "outputs": [],
   "source": []
  }
 ],
 "metadata": {
  "kernelspec": {
   "display_name": "Python 3 (ipykernel)",
   "language": "python",
   "name": "python3"
  },
  "language_info": {
   "codemirror_mode": {
    "name": "ipython",
    "version": 3
   },
   "file_extension": ".py",
   "mimetype": "text/x-python",
   "name": "python",
   "nbconvert_exporter": "python",
   "pygments_lexer": "ipython3",
   "version": "3.9.7"
  }
 },
 "nbformat": 4,
 "nbformat_minor": 5
}
