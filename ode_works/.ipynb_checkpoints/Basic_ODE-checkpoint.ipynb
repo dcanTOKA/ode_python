{
 "cells": [
  {
   "cell_type": "code",
   "execution_count": 1,
   "id": "99795262",
   "metadata": {},
   "outputs": [],
   "source": [
    "import numpy as np\n",
    "from scipy.integrate import odeint\n",
    "import matplotlib.pyplot as plt"
   ]
  },
  {
   "cell_type": "code",
   "execution_count": 2,
   "id": "750a6b35",
   "metadata": {},
   "outputs": [],
   "source": [
    "def model(z, t, u):\n",
    "    x1 = z[0]\n",
    "    x2 = z[1]\n",
    "    \n",
    "    dx1 = x2 - (2 * (x1 * x2))\n",
    "    dx2 = -x1 + x1**2 + x2**2 + (3*t*u)\n",
    "            \n",
    "    return [dx1, dx2]"
   ]
  },
  {
   "cell_type": "code",
   "execution_count": 3,
   "id": "2b5aba07",
   "metadata": {},
   "outputs": [],
   "source": [
    "# initial conditions\n",
    "z0 = [0, 0]"
   ]
  },
  {
   "cell_type": "code",
   "execution_count": 4,
   "id": "9f1cb715",
   "metadata": {},
   "outputs": [],
   "source": [
    "# time points\n",
    "n=10\n",
    "t = np.linspace(0,1,n)\n",
    "u = np.ones(n)\n",
    "#u[21:] = 0.0"
   ]
  },
  {
   "cell_type": "code",
   "execution_count": 5,
   "id": "d5662f68",
   "metadata": {},
   "outputs": [],
   "source": [
    "x1 = np.zeros(n)\n",
    "x2 = np.zeros(n)"
   ]
  },
  {
   "cell_type": "code",
   "execution_count": 6,
   "id": "1dea4217",
   "metadata": {},
   "outputs": [],
   "source": [
    "def plot_result(x, y, u, t):\n",
    "    plt.plot(t, u, 'k:')\n",
    "    plt.plot(t, x, 'r-')\n",
    "    plt.plot(t, y, 'b--')\n",
    "    plt.xlabel('time')\n",
    "    plt.legend(['u(t)', 'x1(t)', 'x2(t)'])\n",
    "    plt.show"
   ]
  },
  {
   "cell_type": "code",
   "execution_count": 7,
   "id": "e3fe08cf",
   "metadata": {},
   "outputs": [],
   "source": [
    "# solve ODE\n",
    "\n",
    "for i in range(1,n):\n",
    "    tspan=[t[i-1], t[i]]\n",
    "    z = odeint(model, z0, tspan, args=(u[i],))\n",
    "    z0 = z[1]\n",
    "    x1[i] = z0[0]\n",
    "    x2[i] = z0[1]\n",
    "    "
   ]
  },
  {
   "cell_type": "code",
   "execution_count": 10,
   "id": "c266f012",
   "metadata": {},
   "outputs": [
    {
     "data": {
      "text/plain": [
       "array([0.        , 0.11111111, 0.22222222, 0.33333333, 0.44444444,\n",
       "       0.55555556, 0.66666667, 0.77777778, 0.88888889, 1.        ])"
      ]
     },
     "execution_count": 10,
     "metadata": {},
     "output_type": "execute_result"
    }
   ],
   "source": [
    "t"
   ]
  },
  {
   "cell_type": "code",
   "execution_count": 9,
   "id": "1b260510",
   "metadata": {},
   "outputs": [
    {
     "data": {
      "text/plain": [
       "array([0.        , 0.0185071 , 0.0740148 , 0.16700977, 0.29953458,\n",
       "       0.47665311, 0.70885998, 1.01668606, 1.44088771, 2.06919112])"
      ]
     },
     "execution_count": 9,
     "metadata": {},
     "output_type": "execute_result"
    }
   ],
   "source": [
    "x2"
   ]
  },
  {
   "cell_type": "code",
   "execution_count": 8,
   "id": "1572f350",
   "metadata": {},
   "outputs": [
    {
     "data": {
      "image/png": "[encoded data removed]",
      "text/plain": [
       "<Figure size 432x288 with 1 Axes>"
      ]
     },
     "metadata": {
      "needs_background": "light"
     },
     "output_type": "display_data"
    }
   ],
   "source": [
    "plot_result(x1, x2, u, t)"
   ]
  },
  {
   "cell_type": "code",
   "execution_count": null,
   "id": "482b59fc",
   "metadata": {},
   "outputs": [],
   "source": []
  }
 ],
 "metadata": {
  "kernelspec": {
   "display_name": "Python 3 (ipykernel)",
   "language": "python",
   "name": "python3"
  },
  "language_info": {
   "codemirror_mode": {
    "name": "ipython",
    "version": 3
   },
   "file_extension": ".py",
   "mimetype": "text/x-python",
   "name": "python",
   "nbconvert_exporter": "python",
   "pygments_lexer": "ipython3",
   "version": "3.9.7"
  }
 },
 "nbformat": 4,
 "nbformat_minor": 5
}
